{
 "cells": [
  {
   "cell_type": "code",
   "execution_count": 1,
   "metadata": {},
   "outputs": [],
   "source": [
    "import os\n",
    "from glob import glob\n",
    "\n",
    "import rasterio as rst\n",
    "import rastertools as rtools\n",
    "from pyogrio import read_dataframe, write_dataframe\n",
    "\n",
    "wrk_dir = r'D:\\.temp'"
   ]
  },
  {
   "cell_type": "markdown",
   "metadata": {},
   "source": [
    "### Stacking bands from a Sentinel-2 .zip"
   ]
  },
  {
   "cell_type": "code",
   "execution_count": null,
   "metadata": {},
   "outputs": [],
   "source": [
    "rtools.s2stack(\n",
    "    os.path.join(wrk_dir, 'S2B_MSIL2A_20240604T101559_N0510_R065_T32TNT_20240604T130328.SAFE.zip'),\n",
    "    out_path=os.path.join(wrk_dir, 's2img_10m.tif'), \n",
    "    resolution=10\n",
    ")\n",
    "rtools.s2stack(\n",
    "    os.path.join(wrk_dir, 'S2B_MSIL2A_20240604T101559_N0510_R065_T32TNT_20240604T130328.SAFE.zip'),\n",
    "    out_path=os.path.join(wrk_dir, 's2img_20m.tif'), \n",
    "    resolution=[10, 20]\n",
    ")"
   ]
  },
  {
   "cell_type": "markdown",
   "metadata": {},
   "source": [
    "## The Raster class"
   ]
  },
  {
   "cell_type": "code",
   "execution_count": null,
   "metadata": {},
   "outputs": [],
   "source": [
    "with rtools.Raster(os.path.join(wrk_dir, 'inputs', 'raster1.tif')) as src:\n",
    "    image = src.read()\n",
    "\n",
    "image.__dict__"
   ]
  },
  {
   "cell_type": "markdown",
   "metadata": {},
   "source": [
    "### Vectorizing a raster"
   ]
  },
  {
   "cell_type": "code",
   "execution_count": 10,
   "metadata": {},
   "outputs": [],
   "source": [
    "gdf = rtools.vectorize(os.path.join(wrk_dir, 'binary_vegetation.tif'), nodata=0)\n",
    "write_dataframe(gdf, os.path.join(wrk_dir, 'binary_vegetation.geojson'))"
   ]
  },
  {
   "cell_type": "code",
   "execution_count": 11,
   "metadata": {},
   "outputs": [],
   "source": [
    "with rst.open(os.path.join(wrk_dir, 'binary_vegetation.tif')) as src:\n",
    "    img = src.read(1)\n",
    "    nodata = src.nodata\n",
    "    transform = src.transform\n",
    "    crs = src.crs\n",
    "\n",
    "gdf = rtools.vectorize(img, transform=transform, crs=crs, nodata=0)\n",
    "write_dataframe(gdf, os.path.join(wrk_dir, 'binary_vegetation2.geojson'))"
   ]
  },
  {
   "cell_type": "markdown",
   "metadata": {},
   "source": [
    "### Resampling a raster"
   ]
  },
  {
   "cell_type": "code",
   "execution_count": 15,
   "metadata": {},
   "outputs": [],
   "source": [
    "img = rtools.resample(os.path.join(wrk_dir, 'rasters', 'raster1.tif'), res=1.2, resampling='bilinear')\n",
    "\n",
    "with rst.open(os.path.join(wrk_dir, 'raster1_resampled.tif'), 'w', **img.attrs) as dst:\n",
    "    dst.write(img)"
   ]
  },
  {
   "cell_type": "markdown",
   "metadata": {},
   "source": [
    "### Merging rasters"
   ]
  },
  {
   "cell_type": "code",
   "execution_count": 24,
   "metadata": {},
   "outputs": [],
   "source": [
    "filelist = glob(os.path.join(wrk_dir, 'rasters', '*.tif'))\n",
    "img = rtools.merge(filelist)\n",
    "\n",
    "with rst.open(os.path.join(wrk_dir, 'rasters_merged.tif'), 'w', **img.attrs) as dst:\n",
    "    dst.write(img)"
   ]
  },
  {
   "cell_type": "markdown",
   "metadata": {},
   "source": [
    "### Finding the intersect between shapefiles/rasters"
   ]
  },
  {
   "cell_type": "code",
   "execution_count": 2,
   "metadata": {},
   "outputs": [],
   "source": [
    "rasters = glob(os.path.join(wrk_dir, 'rasters', '*.tif'))\n",
    "shps = glob(os.path.join(wrk_dir, 'shps', '*.shp'))\n",
    "\n",
    "outfiles = rtools.intersect(rasters+shps)"
   ]
  },
  {
   "cell_type": "code",
   "execution_count": 21,
   "metadata": {},
   "outputs": [],
   "source": [
    "from pathlib import Path\n",
    "import xarray as xr\n",
    "import geopandas as gpd\n",
    "\n",
    "for fp, outfile in zip(rasters+shps, outfiles):\n",
    "    if isinstance(outfile, xr.DataArray):\n",
    "        with rst.open(os.path.join(wrk_dir, f'{Path(fp).stem}_intersect.tif'), 'w', **outfile.attrs) as dst:\n",
    "            dst.write(outfile)\n",
    "    elif isinstance(outfile, gpd.GeoDataFrame):\n",
    "        write_dataframe(outfile, os.path.join(wrk_dir, f'{Path(fp).stem}_intersect.geojson'))\n",
    "    else:\n",
    "        print('How awkward, you messed up in a live demo.')"
   ]
  }
 ],
 "metadata": {
  "kernelspec": {
   "display_name": "urban",
   "language": "python",
   "name": "python3"
  },
  "language_info": {
   "codemirror_mode": {
    "name": "ipython",
    "version": 3
   },
   "file_extension": ".py",
   "mimetype": "text/x-python",
   "name": "python",
   "nbconvert_exporter": "python",
   "pygments_lexer": "ipython3",
   "version": "3.10.0"
  }
 },
 "nbformat": 4,
 "nbformat_minor": 2
}
